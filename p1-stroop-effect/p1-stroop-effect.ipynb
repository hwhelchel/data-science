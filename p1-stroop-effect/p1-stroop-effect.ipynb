{
 "cells": [
  {
   "cell_type": "markdown",
   "metadata": {},
   "source": [
    "## Statistics: The Science of Decisions Project Instructions\n",
    "\n",
    "### Background Information\n",
    "\n",
    "In a Stroop task, participants are presented with a list of words, with each word displayed in a color of ink. The participant’s task is to say out loud the color of the ink in which the word is printed. The task has two conditions: a congruent words condition, and an incongruent words condition. In the congruent words condition, the words being displayed are color words whose names match the colors in which they are printed: for example RED, BLUE. In the incongruent words condition, the words displayed are color words whose names do not match the colors in which they are printed: for example PURPLE, ORANGE. In each case, we measure the time it takes to name the ink colors in equally-sized lists. Each participant will go through and record a time from each condition.\n",
    "Questions For Investigation\n",
    "\n",
    "As a general note, be sure to keep a record of any resources that you use or refer to in the creation of your project. You will need to report your sources as part of the project submission."
   ]
  },
  {
   "cell_type": "markdown",
   "metadata": {},
   "source": [
    "### 1. What is our independent variable? What is our dependent variable?\n",
    "\n",
    "The independent variable is the \"words condition\" or whether the color spelled out matches the font color of the spelled word. This is defined as congruent when the words being displayed are color words whose names match the colors in which they are printed and incongruent when the words displayed are color words whose names do not match the colors in which they are printed. The dependent variable is the time it takes to name the ink colors in equally-sized lists.\n"
   ]
  },
  {
   "cell_type": "markdown",
   "metadata": {},
   "source": [
    "### 2. What is an appropriate set of hypotheses for this task? What kind of statistical test do you expect to perform? Justify your choices.\n",
    "Now it’s your chance to try out the Stroop task for yourself. Go to this link, which has a Java-based applet for performing the Stroop task. Record the times that you received on the task (you do not need to submit your times to the site.) Now, download this dataset which contains results from a number of participants in the task. Each row of the dataset contains the performance for one participant, with the first number their results on the congruent task and the second number their performance on the incongruent task.\n",
    "\n",
    "An appropriate null hypothesis is that the word condition has no effect on the time it takes to name the ink colors in equally-sized lists. An appropriate alternative hypothesis is that the time it takes to name the ink colors in equally-sized lists is higher for the incongruent word condition.\n",
    "\n",
    "I would perform a paired samples one-tailed t-test because each subject performs the exercise twice. Once as a pre test control and then again with the incongruent word condition. I would use a t-test because population standard deviation is unknown."
   ]
  },
  {
   "cell_type": "markdown",
   "metadata": {},
   "source": [
    "### 3. Report some descriptive statistics regarding this dataset. Include at least one measure of central tendency and at least one measure of variability."
   ]
  },
  {
   "cell_type": "code",
   "execution_count": 51,
   "metadata": {
    "collapsed": false
   },
   "outputs": [
    {
     "data": {
      "text/html": [
       "<table border=\"1\" cellpadding=\"3\" cellspacing=\"0\"  style=\"border:1px solid black;border-collapse:collapse;\"><tr><td>Statistic</td><td>Congruent</td><td>Incongruent</td><td>Difference</td></tr><tr><td>Mean</td><td>14.051</td><td>22.016</td><td>-7.965</td></tr><tr><td>Median</td><td>14.357</td><td>21.017</td><td>-7.666</td></tr><tr><td>Standard&nbspDeviation</td><td>3.559</td><td>4.797</td><td>4.865</td></tr></table>"
      ],
      "text/plain": [
       "<ipy_table.IpyTable at 0x10f348208>"
      ]
     },
     "execution_count": 51,
     "metadata": {},
     "output_type": "execute_result"
    }
   ],
   "source": [
    "from ipy_table import *\n",
    "from statistics import *\n",
    "\n",
    "congruents = [12.079,16.791,9.564,8.630,14.669,12.238,14.692,8.987,9.401,14.480,22.328,15.298,15.073,16.929,18.200,12.130,18.495,10.639,11.344,12.369,12.944,14.233,19.710,16.004];\n",
    "incongruents = [19.278,18.741,21.214,15.687,22.803,20.878,24.572,17.394,20.762,26.282,24.524,18.644,17.510,20.330,35.255,22.158,25.139,20.429,17.425,34.288,23.894,17.960,22.058,21.157];\n",
    "differences = [a - b for a, b in zip(congruents, incongruents)];\n",
    "\n",
    "stroop_statistics = [\n",
    "    ['Statistic', 'Congruent', 'Incongruent', 'Difference'],\n",
    "    ['Mean', '{:.5}'.format(mean(congruents)), '{:.5}'.format(mean(incongruents)), '{:.4}'.format(mean(differences))], \n",
    "    ['Median', '{:.5}'.format(median(congruents)), '{:.5}'.format(median(incongruents)), '{:.4}'.format(median(differences))],\n",
    "    ['Standard Deviation', '{:.4}'.format(stdev(congruents)), '{:.4}'.format(stdev(incongruents)), '{:.4}'.format(stdev(differences))]];\n",
    "make_table(stroop_statistics)"
   ]
  },
  {
   "cell_type": "markdown",
   "metadata": {},
   "source": [
    "### 4. Provide one or two visualizations that show the distribution of the sample data. Write one or two sentences noting what you observe about the plot or plots.\n",
    "\n",
    "I decided to create a scatterplot of the differences between the test times. Every difference is negative meaning everyone was slower with the incongruent words condition introduced."
   ]
  },
  {
   "cell_type": "code",
   "execution_count": 31,
   "metadata": {
    "collapsed": false
   },
   "outputs": [
    {
     "data": {
      "image/png": "[encoded data removed]",
      "text/plain": [
       "<matplotlib.figure.Figure at 0x10f47e9e8>"
      ]
     },
     "metadata": {},
     "output_type": "display_data"
    }
   ],
   "source": [
    "%matplotlib inline\n",
    "import numpy as np\n",
    "import matplotlib.pyplot as plt\n",
    "\n",
    "participants = list(range(0,len(differences)));\n",
    "\n",
    "plt.title(\"Difference in Time (Congruent - Incongruent)\")\n",
    "plt.xlabel(\"Participant\")\n",
    "plt.ylabel(\"Difference in Seconds\")\n",
    "plt.scatter(participants, differences, s=35, c=['red'], alpha=0.5)\n",
    "plt.show()"
   ]
  },
  {
   "cell_type": "markdown",
   "metadata": {},
   "source": [
    "### 5. Now, perform the statistical test and report your results. What is your confidence level and your critical statistic value? Do you reject the null hypothesis or fail to reject it? Come to a conclusion in terms of the experiment task. Did the results match up with your expectations?\n",
    "\n",
    "I would reject the null hypothesis. The incongruent word condition has statistically significant effect on the time it takes to read the word list. These results did match my expectations as it took me almost double the amount of time to read the incongruent word list than the congruent word list."
   ]
  },
  {
   "cell_type": "code",
   "execution_count": 48,
   "metadata": {
    "collapsed": false
   },
   "outputs": [
    {
     "data": {
      "text/html": [
       "<table border=\"1\" cellpadding=\"3\" cellspacing=\"0\"  style=\"border:1px solid black;border-collapse:collapse;\"><tr><td>Mean&nbspof&nbspDifference</td><td>Standard&nbspDeviation&nbspof&nbspDifference</td><td>Sample&nbspSize</td><td>t&nbspstatistic</td><td>df</td><td>Confidence&nbspLevel&nbsp(95%&nbspOne&nbspTail)</td><td>Confidence&nbspInterval</td><td>Reject&nbspthe&nbspNull?</td></tr><tr><td>-7.965</td><td>4.865</td><td>24</td><td>-8.021</td><td>23</td><td>1.714</td><td>(-16.303,0.374)</td><td>True</td></tr></table>"
      ],
      "text/plain": [
       "<ipy_table.IpyTable at 0x10f037f60>"
      ]
     },
     "execution_count": 48,
     "metadata": {},
     "output_type": "execute_result"
    }
   ],
   "source": [
    "from math import *\n",
    "confidence_level = 1.714;\n",
    "sample_size = len(differences);\n",
    "mean_of_differences = mean(differences);\n",
    "standard_deviation_of_differences = stdev(differences);\n",
    "standard_error = standard_deviation_of_differences / sqrt(sample_size);\n",
    "t_statistic = mean_of_differences / standard_error;\n",
    "lower_bound_ci = mean_of_differences - confidence_level * standard_deviation_of_differences;\n",
    "upper_bound_ci = mean_of_differences + confidence_level * standard_deviation_of_differences;\n",
    "\n",
    "statistical_test_results = [\n",
    "    ['Mean of Difference','Standard Deviation of Difference','Sample Size','t statistic','df','Confidence Level (95% One Tail)','Confidence Interval','Reject the Null?'],\n",
    "    ['{:.4}'.format(mean_of_differences),'{:.4}'.format(standard_deviation_of_differences), sample_size, '{:.4}'.format(t_statistic), sample_size - 1, confidence_level, \"(\" + '{:.5}'.format(lower_bound_ci) + \",\" + '{:.3}'.format(upper_bound_ci) + \")\", abs(t_statistic) > confidence_level]];\n",
    "make_table(statistical_test_results)"
   ]
  },
  {
   "cell_type": "markdown",
   "metadata": {},
   "source": [
    "### 6. Optional: What do you think is responsible for the effects observed? Can you think of an alternative or similar task that would result in a similar effect? Some research about the problem will be helpful for thinking about these two questions!\n",
    "\n",
    "The physical process of reading is almost subconscious. As the subject looks at the characters on the page, their brain cannot help but start reading the word in their head. They then have to stop this process and focus on the background color and ignore the meaning of the word. This takes substantial time. The wikipedia article on the Stroop effect calls this theory Automaticity.\n",
    "\n",
    "Another interesting experiment would be taking varying levels of proficient speakers of English and performing the test with them. I would hypothesize that English beginners would have an easier time responding with the appropriate color (in their own language) because the neural pathways around the semantics of English colors are not as strong as in a native speaker. Therefore the non native beginner would have less cognitive tension to overcome before focusing on the background color."
   ]
  },
  {
   "cell_type": "markdown",
   "metadata": {},
   "source": [
    "#### Sources:\n",
    "\n",
    "[Wikipedia - Student T Test](https://en.wikipedia.org/wiki/Student%27s_t-test#Paired_samples)  \n",
    "[Wikipedia - Descriptive Statistics](https://en.wikipedia.org/wiki/Descriptive_statistics)  \n",
    "[SJSU T-Table](http://www.sjsu.edu/faculty/gerstman/StatPrimer/t-table.pdf)  "
   ]
  }
 ],
 "metadata": {
  "kernelspec": {
   "display_name": "Python 3",
   "language": "python",
   "name": "python3"
  },
  "language_info": {
   "codemirror_mode": {
    "name": "ipython",
    "version": 3
   },
   "file_extension": ".py",
   "mimetype": "text/x-python",
   "name": "python",
   "nbconvert_exporter": "python",
   "pygments_lexer": "ipython3",
   "version": "3.4.3"
  }
 },
 "nbformat": 4,
 "nbformat_minor": 0
}
